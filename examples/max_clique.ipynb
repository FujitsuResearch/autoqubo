{
 "cells": [
  {
   "cell_type": "markdown",
   "source": [
    "## Maximum Clique Problem"
   ],
   "metadata": {
    "collapsed": false
   }
  },
  {
   "cell_type": "markdown",
   "source": [
    "### Problem Statement\n",
    "Given an undirected graph G = (V, E), a clique is a subset S of the vertices forming\n",
    "a complete subgraph, meaning that any two vertices of S are connected by an edge in G.\n",
    "The clique size is the number of vertices in S, and the maximum clique problem is to\n",
    "find a clique with a maximum number of vertices in G.\n",
    "\n",
    "### Direct Formulation as Optimisation Problem\n",
    "- **Solution Space**: any subset S of V\n",
    "- **Objective Function**: f(S) = |S| to maximise\n",
    "- **Constraints**: for all i, j in S (i<>j): (i,j) in E\n",
    "\n",
    "### Formulation as a Binary Optimisation Problem\n",
    "Binary Representation of solutions: a subset S of V is represented as a binary\n",
    "vector x of size N = |V| so that x[i]=1 means node i is in S.\n",
    "\n",
    "With this representation, the formulation above becomes as follows:\n",
    "- **Solution Space**: any binary vector x of lenght N\n",
    "- **Objective Function**: f(x) = sum(x) to maximise\n",
    "- **Constraints**: for all i, j in [1,N] (i<>j) such that x[i]=1 and x[j]=1: (i,j) in E\n",
    "\n",
    "### Particular Problem Instance\n",
    "As an example, we will use the graph from the figure below:\n",
    "<img src=\"http://www.cis.upenn.edu/~mkearns/teaching/NetworkedLife/graph.jpg\" width=\"200\">\n"
   ],
   "metadata": {
    "collapsed": false
   }
  },
  {
   "cell_type": "markdown",
   "source": [
    "### Define the graph in Python"
   ],
   "metadata": {
    "collapsed": false
   }
  },
  {
   "cell_type": "code",
   "execution_count": null,
   "outputs": [],
   "source": [
    "# Number of vertices of the graph\n",
    "n = 10\n",
    "\n",
    "# List of edges of the graph\n",
    "E = { (1, 3), (2, 4), (2, 5), (3, 6), (3, 9), (3, 7), (3, 4), (4, 6), (4, 9),\n",
    "      (4, 7), (4, 8), (5, 7), (5, 8), (6, 7), (6, 9), (7, 8), (7, 9), (7, 10) }"
   ],
   "metadata": {
    "collapsed": false,
    "pycharm": {
     "name": "#%%\n"
    }
   }
  },
  {
   "cell_type": "markdown",
   "source": [
    "### Define the objective function\n"
   ],
   "metadata": {
    "collapsed": false
   }
  },
  {
   "cell_type": "code",
   "execution_count": null,
   "outputs": [],
   "source": [
    "# Objective function (to maximize)\n",
    "def objective_function(x):\n",
    "    return sum(x)  # to maximise\n"
   ],
   "metadata": {
    "collapsed": false,
    "pycharm": {
     "name": "#%%\n"
    }
   }
  },
  {
   "cell_type": "markdown",
   "source": [
    "### Define constraint"
   ],
   "metadata": {
    "collapsed": false
   }
  },
  {
   "cell_type": "code",
   "execution_count": null,
   "outputs": [],
   "source": [
    "from itertools import combinations\n",
    "\n",
    "# This is the first attempt for a logical constraint\n",
    "# As we will later seem, this is a \"stiff\" constraint that is not quadratic\n",
    "def logical_constraint(x):\n",
    "    for i, j in combinations(range(n), 2):\n",
    "        if (x[i] == 1 and x[j] == 1) and (i+1, j+1) not in E:\n",
    "            return False\n",
    "    return True\n",
    "\n",
    "# This is a \"softer\" constraint, that counts the number of violation\n",
    "# We will see that this constraint is quadratic\n",
    "def modified_constraint(x):\n",
    "    sum_violations = 0\n",
    "    for i, j in combinations(range(n), 2):\n",
    "        if (x[i] == 1 and x[j] == 1) and (i+1, j+1) not in E:\n",
    "            sum_violations += 1\n",
    "    return sum_violations"
   ],
   "metadata": {
    "collapsed": false,
    "pycharm": {
     "name": "#%%\n"
    }
   }
  },
  {
   "cell_type": "markdown",
   "source": [
    "## Choosing penalty weights (A and B)\n",
    "\n",
    "The relative rather than absolute values of A and B matter.\n",
    "So we can always fix A=1.\n",
    "\n",
    "For the first formulation of the problem, we should choose B > N\n",
    "(i.e., number of vertices in the graph) e.g., B=N+1.\n",
    "This means choosing B to be a strict upper-bound of the objective_function term.\n",
    "With this choice, the optimal solution can never be an infeasible solution\n",
    "(a non-clique solution), as it is never convenient to trade feasibility for a larger number of nodes.\n",
    "\n",
    "For the second formulation of the problem, to obtain a hard constraint we should also choose B > N.\n",
    "With this choice, the optimal solution can never be an infeasible solution\n",
    "(a non-clique solution), as it is never convenient to trade any degree of feasibility\n",
    " (i.e., not meeting even a single compounding constraint) for a larger number of nodes.\n",
    " By choosing a smaller B (<=N), the requirement of being a clique is relaxed,\n",
    " and the optimum may become a larger sub-graph which is not necessarily a complete clique.\n",
    " The smaller the B the less complete clique the optimum will be required to be.\n",
    "\n",
    "## Unconstrained formulation (to minimize)"
   ],
   "metadata": {
    "collapsed": false
   }
  },
  {
   "cell_type": "code",
   "execution_count": null,
   "outputs": [],
   "source": [
    "# Penalty coefficients\n",
    "A, B = 1, n+1\n",
    "\n",
    "# Unconstrained formulation (to minimize)\n",
    "def f(x):\n",
    "    return -A*objective_function(x) + B*int(modified_constraint(x))"
   ],
   "metadata": {
    "collapsed": false,
    "pycharm": {
     "name": "#%%\n"
    }
   }
  },
  {
   "cell_type": "markdown",
   "source": [
    "## Install packages in the local env (needed for Colab)"
   ],
   "metadata": {
    "collapsed": false
   }
  },
  {
   "cell_type": "code",
   "execution_count": null,
   "outputs": [],
   "source": [
    "!git clone https://github.com/FujitsuResearch/autoqubo\n",
    "!cd autoqubo && python setup.py install\n",
    "!cd autoqubo && pip install -r requirements.txt\n"
   ],
   "metadata": {
    "collapsed": false,
    "pycharm": {
     "name": "#%%\n"
    }
   }
  }
 ],
 "metadata": {
  "kernelspec": {
   "display_name": "Python 3",
   "language": "python",
   "name": "python3"
  },
  "language_info": {
   "codemirror_mode": {
    "name": "ipython",
    "version": 2
   },
   "file_extension": ".py",
   "mimetype": "text/x-python",
   "name": "python",
   "nbconvert_exporter": "python",
   "pygments_lexer": "ipython2",
   "version": "2.7.6"
  }
 },
 "nbformat": 4,
 "nbformat_minor": 0
}