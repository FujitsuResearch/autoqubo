{
 "cells": [
  {
   "cell_type": "markdown",
   "source": [
    "# Weigthed max-sat example"
   ],
   "metadata": {
    "collapsed": false
   }
  },
  {
   "cell_type": "markdown",
   "source": [
    "## Problem statement\n",
    "The maximum satisfiability problem (MAX-SAT) is the problem of determining the maximum\n",
    "number of clauses, of a given Boolean formula in conjunctive normal form, that can be made\n",
    "true by an assignment of truth values to the variables of the formula.\n",
    "One can define a weighted version of MAX-SAT as follows: given a conjunctive normal\n",
    "form formula with weights assigned to each clause, find truth values for its variables\n",
    "that maximize the combined weight of the satisfied clauses.\n",
    "The MAX-SAT problem is an instance of weighted MAX-SAT where all weights are 1.\n",
    "\n",
    "## Integer Linear Programming Formulation\n",
    "MAX-SAT can be expressed using a binary linear program.\n",
    "Fix a conjunctive normal form formula $F$ with variables $x_1, x_2, ..., x_n$,\n",
    "and let $C$ denote the clauses of $F$.\n",
    "For each clause $c$ in $C$, let $S^+_c$ and $S^−_c$ denote the sets of variables\n",
    "which are not negated in $c$, and those that are negated in $c$, respectively.\n",
    "The variables $y_x$ of the formulation will correspond to the variables of the formula $F$,\n",
    "whereas the variables $z_c$ will correspond to the clauses.\n",
    "The formulation is as follows:\n",
    "\n",
    "maximize $\\sum_{c \\in C} w_c\\cdot z_c$\n",
    "(maximize the weight of the satisfied clauses)\n",
    "\n",
    "subject to\n",
    "\n",
    "$ z_c\\leq\\sum_{x\\in S_c^+} y_x+\\sum_{x\\in S_c^-} (1-y_x)$\n",
    "for all $c\\in C$ (clause is true if and only if it has a true, non-negated variable or a false, negated one)\n",
    "\n",
    "$z_c \\in \\{0,1\\}$\n",
    "for all $c\\in C$\n",
    "(every clause is either satisfied or not)\n",
    "\n",
    "$y_x \\in \\{0,1\\}$\n",
    "for all $x\\in F$\n",
    "(every variable is either true or false)\n",
    "\n",
    "## Particular Problem Instance (Weighted MAX-SAT)\n",
    "\n",
    "$\\phi = ({x_1} \\vee \\overline{x_2} : 3) \\wedge (x_3 : 1) \\wedge (\\overline{x_3} \\vee x_2 : 4)) $"
   ],
   "metadata": {
    "collapsed": false
   }
  },
  {
   "cell_type": "markdown",
   "source": [
    "## Formulate equivalent objective function using plain Python"
   ],
   "metadata": {
    "collapsed": false
   }
  },
  {
   "cell_type": "code",
   "execution_count": null,
   "outputs": [],
   "source": [
    "def f(x):\n",
    "    x1, x2, x3 = x\n",
    "    val = 0\n",
    "\n",
    "    # clause 1\n",
    "    if x1 or not x2:\n",
    "        val += 3\n",
    "    # clause 2\n",
    "    if x3:\n",
    "        val += 1\n",
    "    # clause 3\n",
    "    if not x3 or x2:\n",
    "        val += 4\n",
    "\n",
    "    return val"
   ],
   "metadata": {
    "collapsed": false,
    "pycharm": {
     "name": "#%%\n"
    }
   }
  },
  {
   "cell_type": "markdown",
   "source": [
    "## Using AutoQUBO to convert to QUBO"
   ],
   "metadata": {
    "collapsed": false
   }
  },
  {
   "cell_type": "code",
   "execution_count": 11,
   "outputs": [
    {
     "name": "stderr",
     "output_type": "stream",
     "text": [
      "'setup.py' is not recognized as an internal or external command,\n",
      "operable program or batch file.\n"
     ]
    }
   ],
   "source": [
    "# Install packages in the local env\n",
    "!setup.py install\n",
    "\n",
    "# Import everything\n",
    "from autoqubo import SamplingCompiler, Utils\n",
    "from itertools import product\n",
    "\n",
    "# Create QUBO using the sampling compiler\n",
    "# The solution is represetned by 3 bits\n",
    "qubo, offset = SamplingCompiler.generate_qubo_matrix(fitness_function=f, input_size=3)"
   ],
   "metadata": {
    "collapsed": false,
    "pycharm": {
     "name": "#%%\n"
    }
   }
  },
  {
   "cell_type": "markdown",
   "source": [
    "## Print QUBO matrix and coefficients"
   ],
   "metadata": {
    "collapsed": false
   }
  },
  {
   "cell_type": "code",
   "execution_count": null,
   "outputs": [],
   "source": [
    "print(\"QUBO matrix:\")\n",
    "print(qubo)\n",
    "\n",
    "print(\"QUBO coefficients\")\n",
    "print(f\"x[] = {offset}\")\n",
    "for key, coefficient in Utils.get_matrix_dict_repr(qubo).items():\n",
    "    i, j = key\n",
    "    if i == j:\n",
    "        print(f\"x[{i+1}] = {coefficient}\")\n",
    "    else:\n",
    "        print(f\"x[{i+1}, {j+1}] = {coefficient}\")\n"
   ],
   "metadata": {
    "collapsed": false,
    "pycharm": {
     "name": "#%%\n"
    }
   }
  },
  {
   "cell_type": "markdown",
   "source": [
    "## Minimize using QUBO solver"
   ],
   "metadata": {
    "collapsed": false
   }
  },
  {
   "cell_type": "code",
   "execution_count": null,
   "outputs": [],
   "source": [
    "solutions, energy_values = Utils.solve(qubo, offset)\n",
    "for s, e in zip(solutions, energy_values):\n",
    "    print(f\"x={s}, energy={e}\")"
   ],
   "metadata": {
    "collapsed": false,
    "pycharm": {
     "name": "#%%\n"
    }
   }
  }
 ],
 "metadata": {
  "kernelspec": {
   "display_name": "Python 3",
   "language": "python",
   "name": "python3"
  },
  "language_info": {
   "codemirror_mode": {
    "name": "ipython",
    "version": 2
   },
   "file_extension": ".py",
   "mimetype": "text/x-python",
   "name": "python",
   "nbconvert_exporter": "python",
   "pygments_lexer": "ipython2",
   "version": "2.7.6"
  }
 },
 "nbformat": 4,
 "nbformat_minor": 0
}