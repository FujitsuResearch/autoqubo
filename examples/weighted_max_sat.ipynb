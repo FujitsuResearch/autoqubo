{
 "cells": [
  {
   "cell_type": "markdown",
   "metadata": {},
   "source": [
    "# Weigthed max-sat example"
   ]
  },
  {
   "cell_type": "markdown",
   "metadata": {},
   "source": [
    "## Problem statement\n",
    "The maximum satisfiability problem (MAX-SAT) is the problem of determining the maximum\n",
    "number of clauses, of a given Boolean formula in conjunctive normal form, that can be made\n",
    "true by an assignment of truth values to the variables of the formula.\n",
    "One can define a weighted version of MAX-SAT as follows: given a conjunctive normal\n",
    "form formula with weights assigned to each clause, find truth values for its variables\n",
    "that maximize the combined weight of the satisfied clauses.\n",
    "The MAX-SAT problem is an instance of weighted MAX-SAT where all weights are 1.\n",
    "\n",
    "## Integer Linear Programming Formulation\n",
    "MAX-SAT can be expressed using a binary linear program.\n",
    "Fix a conjunctive normal form formula $F$ with variables $x_1, x_2, ..., x_n$,\n",
    "and let $C$ denote the clauses of $F$.\n",
    "For each clause $c$ in $C$, let $S^+_c$ and $S^−_c$ denote the sets of variables\n",
    "which are not negated in $c$, and those that are negated in $c$, respectively.\n",
    "The variables $y_x$ of the formulation will correspond to the variables of the formula $F$,\n",
    "whereas the variables $z_c$ will correspond to the clauses.\n",
    "The formulation is as follows:\n",
    "\n",
    "maximize $\\sum_{c \\in C} w_c\\cdot z_c$\n",
    "(maximize the weight of the satisfied clauses)\n",
    "\n",
    "subject to\n",
    "\n",
    "$ z_c\\leq\\sum_{x\\in S_c^+} y_x+\\sum_{x\\in S_c^-} (1-y_x)$\n",
    "for all $c\\in C$ (clause is true if and only if it has a true, non-negated variable or a false, negated one)\n",
    "\n",
    "$z_c \\in \\{0,1\\}$\n",
    "for all $c\\in C$\n",
    "(every clause is either satisfied or not)\n",
    "\n",
    "$y_x \\in \\{0,1\\}$\n",
    "for all $x\\in F$\n",
    "(every variable is either true or false)\n",
    "\n",
    "## Particular Problem Instance (Weighted MAX-SAT)\n",
    "\n",
    "$\\phi = ({x_1} \\vee \\overline{x_2} : 3) \\wedge (x_3 : 1) \\wedge (\\overline{x_3} \\vee x_2 : 4)) $"
   ]
  },
  {
   "cell_type": "markdown",
   "metadata": {},
   "source": [
    "## Formulate equivalent objective function using plain Python"
   ]
  },
  {
   "cell_type": "code",
   "execution_count": 6,
   "metadata": {
    "pycharm": {
     "name": "#%%\n"
    }
   },
   "outputs": [],
   "source": [
    "def f(x):\n",
    "    x1, x2, x3 = x\n",
    "    val = 0\n",
    "\n",
    "    # clause 1\n",
    "    if x1 or not x2:\n",
    "        val += 3\n",
    "    # clause 2\n",
    "    if x3:\n",
    "        val += 1\n",
    "    # clause 3\n",
    "    if not x3 or x2:\n",
    "        val += 4\n",
    "\n",
    "    return val"
   ]
  },
  {
   "cell_type": "markdown",
   "metadata": {},
   "source": [
    "## Install packages in the local env (needed for Colab)"
   ]
  },
  {
   "cell_type": "code",
   "execution_count": 7,
   "metadata": {
    "pycharm": {
     "name": "#%%\n"
    },
    "scrolled": false
   },
   "outputs": [
    {
     "name": "stderr",
     "output_type": "stream",
     "text": [
      "fatal: destination path 'autoqubo' already exists and is not an empty directory.\n"
     ]
    },
    {
     "name": "stdout",
     "output_type": "stream",
     "text": [
      "running install\n",
      "running bdist_egg\n",
      "running egg_info\n",
      "writing autoqubo.egg-info\\PKG-INFO\n",
      "writing dependency_links to autoqubo.egg-info\\dependency_links.txt\n",
      "writing requirements to autoqubo.egg-info\\requires.txt\n",
      "writing top-level names to autoqubo.egg-info\\top_level.txt\n",
      "reading manifest file 'autoqubo.egg-info\\SOURCES.txt'\n",
      "adding license file 'LICENSE'\n",
      "writing manifest file 'autoqubo.egg-info\\SOURCES.txt'\n",
      "installing library code to build\\bdist.win-amd64\\egg\n",
      "running install_lib\n",
      "running build_py\n",
      "creating build\\bdist.win-amd64\\egg\n",
      "creating build\\bdist.win-amd64\\egg\\autoqubo\n",
      "copying build\\lib\\autoqubo\\__init__.py -> build\\bdist.win-amd64\\egg\\autoqubo\n",
      "copying build\\lib\\autoqubo\\_package_info.py -> build\\bdist.win-amd64\\egg\\autoqubo\n",
      "copying build\\lib\\autoqubo\\binarization.py -> build\\bdist.win-amd64\\egg\\autoqubo\n",
      "copying build\\lib\\autoqubo\\penalty_weights.py -> build\\bdist.win-amd64\\egg\\autoqubo\n",
      "copying build\\lib\\autoqubo\\sampling_compiler.py -> build\\bdist.win-amd64\\egg\\autoqubo\n",
      "copying build\\lib\\autoqubo\\search_space.py -> build\\bdist.win-amd64\\egg\\autoqubo\n",
      "copying build\\lib\\autoqubo\\symbolic.py -> build\\bdist.win-amd64\\egg\\autoqubo\n",
      "copying build\\lib\\autoqubo\\utils.py -> build\\bdist.win-amd64\\egg\\autoqubo\n",
      "byte-compiling build\\bdist.win-amd64\\egg\\autoqubo\\__init__.py to __init__.cpython-37.pyc\n",
      "byte-compiling build\\bdist.win-amd64\\egg\\autoqubo\\_package_info.py to _package_info.cpython-37.pyc\n",
      "byte-compiling build\\bdist.win-amd64\\egg\\autoqubo\\binarization.py to binarization.cpython-37.pyc\n",
      "byte-compiling build\\bdist.win-amd64\\egg\\autoqubo\\penalty_weights.py to penalty_weights.cpython-37.pyc\n",
      "byte-compiling build\\bdist.win-amd64\\egg\\autoqubo\\sampling_compiler.py to sampling_compiler.cpython-37.pyc\n",
      "byte-compiling build\\bdist.win-amd64\\egg\\autoqubo\\search_space.py to search_space.cpython-37.pyc\n",
      "byte-compiling build\\bdist.win-amd64\\egg\\autoqubo\\symbolic.py to symbolic.cpython-37.pyc\n",
      "byte-compiling build\\bdist.win-amd64\\egg\\autoqubo\\utils.py to utils.cpython-37.pyc\n",
      "creating build\\bdist.win-amd64\\egg\\EGG-INFO\n",
      "copying autoqubo.egg-info\\PKG-INFO -> build\\bdist.win-amd64\\egg\\EGG-INFO\n",
      "copying autoqubo.egg-info\\SOURCES.txt -> build\\bdist.win-amd64\\egg\\EGG-INFO\n",
      "copying autoqubo.egg-info\\dependency_links.txt -> build\\bdist.win-amd64\\egg\\EGG-INFO\n",
      "copying autoqubo.egg-info\\requires.txt -> build\\bdist.win-amd64\\egg\\EGG-INFO\n",
      "copying autoqubo.egg-info\\top_level.txt -> build\\bdist.win-amd64\\egg\\EGG-INFO\n",
      "creating 'dist\\autoqubo-0.0.1-py3.7.egg' and adding 'build\\bdist.win-amd64\\egg' to it\n",
      "removing 'build\\bdist.win-amd64\\egg' (and everything under it)\n",
      "Processing autoqubo-0.0.1-py3.7.egg\n",
      "Removing c:\\users\\justi\\miniconda3\\envs\\autoqubo\\lib\\site-packages\\autoqubo-0.0.1-py3.7.egg\n"
     ]
    },
    {
     "name": "stderr",
     "output_type": "stream",
     "text": [
      "c:\\Users\\justi\\miniconda3\\envs\\autoqubo\\lib\\site-packages\\setuptools\\command\\install.py:37: SetuptoolsDeprecationWarning: setup.py install is deprecated. Use build and pip and other standards-based tools.\n",
      "  setuptools.SetuptoolsDeprecationWarning,\n",
      "c:\\Users\\justi\\miniconda3\\envs\\autoqubo\\lib\\site-packages\\setuptools\\command\\easy_install.py:147: EasyInstallDeprecationWarning: easy_install command is deprecated. Use build and pip and other standards-based tools.\n",
      "  EasyInstallDeprecationWarning,\n",
      "zip_safe flag not set; analyzing archive contents...\n",
      "error: [WinError 32] The process cannot access the file because it is being used by another process: 'c:\\\\users\\\\justi\\\\miniconda3\\\\envs\\\\autoqubo\\\\lib\\\\site-packages\\\\autoqubo-0.0.1-py3.7.egg'\n"
     ]
    },
    {
     "name": "stdout",
     "output_type": "stream",
     "text": [
      "Requirement already satisfied: numpy<2.0.0,>=1.14.0 in c:\\users\\justi\\miniconda3\\envs\\autoqubo\\lib\\site-packages (from -r requirements.txt (line 1)) (1.21.6)\n",
      "Requirement already satisfied: dimod==0.10.17 in c:\\users\\justi\\miniconda3\\envs\\autoqubo\\lib\\site-packages (from -r requirements.txt (line 2)) (0.10.17)\n",
      "Requirement already satisfied: dwave-qbsolv==0.3.4 in c:\\users\\justi\\miniconda3\\envs\\autoqubo\\lib\\site-packages (from -r requirements.txt (line 3)) (0.3.4)\n",
      "Requirement already satisfied: pyparsing<3.0.0,>=2.4.7 in c:\\users\\justi\\miniconda3\\envs\\autoqubo\\lib\\site-packages (from dimod==0.10.17->-r requirements.txt (line 2)) (2.4.7)\n"
     ]
    }
   ],
   "source": [
    "!git clone https://github.com/FujitsuResearch/autoqubo\n",
    "!cd autoqubo && python setup.py install\n",
    "!cd autoqubo && pip install -r requirements.txt\n"
   ]
  },
  {
   "cell_type": "markdown",
   "metadata": {},
   "source": [
    "## Using AutoQUBO to convert to QUBO"
   ]
  },
  {
   "cell_type": "code",
   "execution_count": 8,
   "metadata": {},
   "outputs": [],
   "source": [
    "# Import everything\n",
    "from autoqubo import SamplingCompiler, Utils\n",
    "from itertools import product\n",
    "\n",
    "# Create QUBO using the sampling compiler\n",
    "# The solution is represetned by 3 bits\n",
    "qubo, offset = SamplingCompiler.generate_qubo_matrix(fitness_function=f, use_multiprocessing=False, input_size=3)"
   ]
  },
  {
   "cell_type": "markdown",
   "metadata": {},
   "source": [
    "## Print QUBO matrix and coefficients"
   ]
  },
  {
   "cell_type": "code",
   "execution_count": 9,
   "metadata": {
    "pycharm": {
     "name": "#%%\n"
    }
   },
   "outputs": [
    {
     "name": "stdout",
     "output_type": "stream",
     "text": [
      "QUBO matrix:\n",
      "[[ 0.  3.  0.]\n",
      " [ 0. -3.  4.]\n",
      " [ 0.  0. -3.]]\n",
      "QUBO coefficients\n",
      "x[] = 7\n",
      "x[1, 2] = 3.0\n",
      "x[2] = -3.0\n",
      "x[2, 3] = 4.0\n",
      "x[3] = -3.0\n"
     ]
    }
   ],
   "source": [
    "print(\"QUBO matrix:\")\n",
    "print(qubo)\n",
    "\n",
    "print(\"QUBO coefficients\")\n",
    "print(f\"x[] = {offset}\")\n",
    "for key, coefficient in Utils.get_matrix_dict_repr(qubo).items():\n",
    "    i, j = key\n",
    "    if i == j:\n",
    "        print(f\"x[{i+1}] = {coefficient}\")\n",
    "    else:\n",
    "        print(f\"x[{i+1}, {j+1}] = {coefficient}\")\n"
   ]
  },
  {
   "cell_type": "markdown",
   "metadata": {},
   "source": [
    "## Minimize using QUBO solver"
   ]
  },
  {
   "cell_type": "code",
   "execution_count": 10,
   "metadata": {
    "pycharm": {
     "name": "#%%\n"
    }
   },
   "outputs": [
    {
     "name": "stdout",
     "output_type": "stream",
     "text": [
      "x=[1, 0, 1], energy=4.0\n",
      "x=[0, 0, 1], energy=4.0\n",
      "x=[0, 1, 0], energy=4.0\n"
     ]
    }
   ],
   "source": [
    "solutions, energy_values = Utils.solve(qubo, offset)\n",
    "for s, e in zip(solutions, energy_values):\n",
    "    print(f\"x={s}, energy={e}\")"
   ]
  }
 ],
 "metadata": {
  "kernelspec": {
   "display_name": "autoqubo",
   "language": "python",
   "name": "autoqubo"
  },
  "language_info": {
   "codemirror_mode": {
    "name": "ipython",
    "version": 3
   },
   "file_extension": ".py",
   "mimetype": "text/x-python",
   "name": "python",
   "nbconvert_exporter": "python",
   "pygments_lexer": "ipython3",
   "version": "3.7.16"
  }
 },
 "nbformat": 4,
 "nbformat_minor": 1
}
