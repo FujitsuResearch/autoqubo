{
 "cells": [
  {
   "attachments": {},
   "cell_type": "markdown",
   "metadata": {},
   "source": [
    "# Code example of Symbolic Sampling for Max-Clique"
   ]
  },
  {
   "cell_type": "code",
   "execution_count": 3,
   "metadata": {},
   "outputs": [
    {
     "name": "stdout",
     "output_type": "stream",
     "text": [
      "c:\\Users\\A200232161\\projects\\autoqubo_update\n",
      "Obtaining file:///C:/Users/A200232161/projects/autoqubo_update\n",
      "  Preparing metadata (setup.py): started\n",
      "  Preparing metadata (setup.py): finished with status 'done'\n",
      "Requirement already satisfied: numpy<2.0.0,>=1.14.0 in c:\\users\\a200232161\\appdata\\local\\miniconda3\\envs\\autoqubo\\lib\\site-packages (from autoqubo==0.0.1) (1.21.6)\n",
      "Installing collected packages: autoqubo\n",
      "  Attempting uninstall: autoqubo\n",
      "    Found existing installation: autoqubo 0.0.1\n",
      "    Uninstalling autoqubo-0.0.1:\n",
      "      Successfully uninstalled autoqubo-0.0.1\n",
      "  Running setup.py develop for autoqubo\n",
      "Successfully installed autoqubo-0.0.1\n",
      "Note: you may need to restart the kernel to use updated packages.\n",
      "c:\\Users\\A200232161\\projects\\autoqubo_update\\examples\\max_clique\n"
     ]
    },
    {
     "name": "stderr",
     "output_type": "stream",
     "text": [
      "WARNING: There was an error checking the latest version of pip.\n"
     ]
    }
   ],
   "source": [
    "# make sure autoqubo is also installed in this jupyter kernel\n",
    "%cd ../..\n",
    "%pip install -e .\n",
    "%cd examples/max_clique"
   ]
  },
  {
   "cell_type": "code",
   "execution_count": 4,
   "metadata": {},
   "outputs": [],
   "source": [
    "import pandas as pd\n",
    "import numpy as np\n",
    "from itertools import combinations\n",
    "from pathlib import Path\n",
    "\n",
    "from autoqubo import SamplingCompiler"
   ]
  },
  {
   "attachments": {},
   "cell_type": "markdown",
   "metadata": {},
   "source": [
    "### Helper functions to parse Max-Clique instances\n"
   ]
  },
  {
   "cell_type": "code",
   "execution_count": 5,
   "metadata": {},
   "outputs": [],
   "source": [
    "# make DIMACS files accessible\n",
    "DATASET_PATH = \"..//data/max_clique_dimacs_subset/\"\n",
    "\n",
    "\n",
    "instances_200 = [\n",
    "    \"c-fat200-1.clq\",\n",
    "    \"c-fat200-2.clq\",\n",
    "    \"brock200_1.clq\",\n",
    "    \"brock200_2.clq\",\n",
    "    \"brock200_3.clq\",\n",
    "    \"san200_0.7_1.clq\",\n",
    "    \"san200_0.7_2.clq\",\n",
    "    \"san200_0.9_1.clq\",\n",
    "    \"san200_0.9_2.clq\",\n",
    "    \"san200_0.9_3.clq\",\n",
    "]\n",
    "BATCH_SMALL = [Path().joinpath(DATASET_PATH + fn) for fn in instances_200]\n",
    "\n",
    "\n",
    "def read_graph(file_path):\n",
    "    \"\"\"reads edge set from DIMACS graph\n",
    "    Args:\n",
    "        file_path(os.PathLike): path to dimacs formatted textfile\n",
    "    Returns:\n",
    "        edges(np.ndarray): adjacency matrix,  edges[v1, v2]==1 iff v1, v2 are adjacent\n",
    "        vertices_num(int): number of vertices\n",
    "    \"\"\"\n",
    "    last_vertex_has_edge = False\n",
    "    with open(file_path, encoding=\"utf-8\") as graph_file:\n",
    "        for i, line in enumerate(graph_file):\n",
    "            if i == 0:\n",
    "                instance_name = str(Path(file_path).stem)\n",
    "                print(f\"Reading graph: {instance_name}\")\n",
    "            elif line.startswith(\"p\"):\n",
    "                _, _, vertices_num, edges_num = line.split()\n",
    "                vertices_num = int(vertices_num)\n",
    "                print(f\"Vertices: {vertices_num}, Edges: {edges_num}\")\n",
    "                edges = np.zeros(shape=(vertices_num, vertices_num))\n",
    "            elif line.startswith(\"e\"):\n",
    "                _, temp_1, temp_2 = line.split()\n",
    "                if temp_1 == temp_2:\n",
    "                    continue\n",
    "                # only save one pair (i,j) per edge, i<j\n",
    "                temp_1 = int(temp_1)\n",
    "                temp_2 = int(temp_2)\n",
    "                node_1 = min(temp_1, temp_2) - 1  # node names start with 1\n",
    "                node_2 = max(temp_1, temp_2) - 1\n",
    "                assert node_2 <= vertices_num, \"specified number of nodes is incorrect\"\n",
    "                if node_2 == vertices_num - 1:\n",
    "                    last_vertex_has_edge = True\n",
    "                edges[node_1, node_2] = 1\n",
    "            elif line.startswith(\"c\"):  # ignore comment lines\n",
    "                continue\n",
    "            else:\n",
    "                raise ValueError(\"unknown line in dimacs graph file: \", line)\n",
    "    if not last_vertex_has_edge:\n",
    "        raise ValueError(\n",
    "            \"number of vertices does not match edge set. last vertex has no edges.\"\n",
    "        )\n",
    "    return edges, vertices_num"
   ]
  },
  {
   "attachments": {},
   "cell_type": "markdown",
   "metadata": {},
   "source": [
    "#### Explicit Sampling"
   ]
  },
  {
   "cell_type": "code",
   "execution_count": 6,
   "metadata": {},
   "outputs": [],
   "source": [
    "# explicit-only constraint function\n",
    "def old_constraint(x, edges):\n",
    "    \"\"\"returns number of constraint violations\"\"\"\n",
    "    sum_violations = 0\n",
    "    for i, j in combinations(range(len(x)), 2):\n",
    "        edge = edges[i, j]\n",
    "        if (x[i] == 1 and x[j] == 1) and edge == 0:\n",
    "            sum_violations += 1\n",
    "    return sum_violations\n",
    "\n",
    "def cost_function(x):\n",
    "    \"\"\"maximize clique size\"\"\"\n",
    "    return -1 * sum(x)"
   ]
  },
  {
   "cell_type": "code",
   "execution_count": 7,
   "metadata": {},
   "outputs": [
    {
     "name": "stdout",
     "output_type": "stream",
     "text": [
      "Reading graph: c-fat200-1\n",
      "Vertices: 200, Edges: 1534\n"
     ]
    }
   ],
   "source": [
    "# load example max clique instance\n",
    "filename = BATCH_SMALL[0]\n",
    "edges, n = read_graph(filename)"
   ]
  },
  {
   "cell_type": "code",
   "execution_count": 8,
   "metadata": {},
   "outputs": [],
   "source": [
    "# explicit constraint function defined by given graph\n",
    "explicit_constraint = lambda x: old_constraint(x, edges)"
   ]
  },
  {
   "cell_type": "code",
   "execution_count": 9,
   "metadata": {},
   "outputs": [],
   "source": [
    "# obtain explicit QUBO\n",
    "qubo1, offset = SamplingCompiler.generate_qubo(\n",
    "    cost_function, explicit_constraint, n, penalty_method=\"sum\"\n",
    ")"
   ]
  },
  {
   "cell_type": "code",
   "execution_count": 10,
   "metadata": {},
   "outputs": [
    {
     "data": {
      "text/plain": [
       "array([[ -1.,   0., 200., ..., 200., 200., 200.],\n",
       "       [  0.,  -1.,   0., ..., 200., 200., 200.],\n",
       "       [  0.,   0.,  -1., ..., 200., 200., 200.],\n",
       "       ...,\n",
       "       [  0.,   0.,   0., ...,  -1.,   0., 200.],\n",
       "       [  0.,   0.,   0., ...,   0.,  -1.,   0.],\n",
       "       [  0.,   0.,   0., ...,   0.,   0.,  -1.]])"
      ]
     },
     "execution_count": 10,
     "metadata": {},
     "output_type": "execute_result"
    }
   ],
   "source": [
    "# QUBO matrix only has numeric entries\n",
    "qubo1"
   ]
  },
  {
   "attachments": {},
   "cell_type": "markdown",
   "metadata": {},
   "source": [
    "#### Symbolic Sampling"
   ]
  },
  {
   "cell_type": "code",
   "execution_count": 11,
   "metadata": {},
   "outputs": [],
   "source": [
    "# constraint function that can handle\n",
    "# both explicit and symoblic adjacency matrix\n",
    "def new_constraint(x, edges):\n",
    "    \"\"\"returns number of constraint violations\"\"\"\n",
    "    sum_violations = 0\n",
    "    for i, j in combinations(range(len(x)), 2):\n",
    "        edge = edges[i, j]\n",
    "        if (x[i] == 1 and x[j] == 1) and edge != 1:\n",
    "            sum_violations += 1 - edge\n",
    "    return sum_violations"
   ]
  },
  {
   "cell_type": "code",
   "execution_count": 12,
   "metadata": {},
   "outputs": [],
   "source": [
    "# note that we could use this constraint\n",
    "# the same way as before, with an explicit\n",
    "# adjacency matrix\n",
    "explicit_constraint = lambda x: new_constraint(x, edges)\n",
    "# obtain explicit QUBO, same as above\n",
    "qubo2, offset = SamplingCompiler.generate_qubo(\n",
    "    cost_function, explicit_constraint, n, penalty_method=\"sum\"\n",
    ")\n",
    "assert (qubo1 == qubo2).all()"
   ]
  },
  {
   "cell_type": "code",
   "execution_count": 13,
   "metadata": {},
   "outputs": [],
   "source": [
    "from sympy import symbols\n",
    "from autoqubo.symbolic import symbolic_matrix\n",
    "from autoqubo.symbolic import insert_values\n",
    "\n",
    "\n",
    "# create symbolic matrix\n",
    "# use example graph to determine number of symbolic variables\n",
    "symbolic_edges = symbolic_matrix(edges.shape[0], edges.shape[1])\n",
    "# constraint is only dependent on graph size\n",
    "constraint = lambda x: new_constraint(x, symbolic_edges)"
   ]
  },
  {
   "cell_type": "code",
   "execution_count": 14,
   "metadata": {},
   "outputs": [],
   "source": [
    "# generate symbolic QUBO\n",
    "symb_qubo, offset = SamplingCompiler.generate_qubo(\n",
    "    cost_function, constraint, n, penalty_method=\"sum\"\n",
    ")"
   ]
  },
  {
   "cell_type": "code",
   "execution_count": 15,
   "metadata": {},
   "outputs": [
    {
     "data": {
      "text/plain": [
       "array([[-1.0, 200.0 - 200.0*s0 1, 200.0 - 200.0*s0 2, ...,\n",
       "        200.0 - 200.0*s0 197, 200.0 - 200.0*s0 198, 200.0 - 200.0*s0 199],\n",
       "       [0.0, -1.0, 200.0 - 200.0*s1 2, ..., 200.0 - 200.0*s1 197,\n",
       "        200.0 - 200.0*s1 198, 200.0 - 200.0*s1 199],\n",
       "       [0.0, 0.0, -1.0, ..., 200.0 - 200.0*s2 197, 200.0 - 200.0*s2 198,\n",
       "        200.0 - 200.0*s2 199],\n",
       "       ...,\n",
       "       [0.0, 0.0, 0.0, ..., -1.0, 200.0 - 200.0*s197 198,\n",
       "        200.0 - 200.0*s197 199],\n",
       "       [0.0, 0.0, 0.0, ..., 0.0, -1.0, 200.0 - 200.0*s198 199],\n",
       "       [0.0, 0.0, 0.0, ..., 0.0, 0.0, -1.0]], dtype=object)"
      ]
     },
     "execution_count": 15,
     "metadata": {},
     "output_type": "execute_result"
    }
   ],
   "source": [
    "# symbolic QUBO has formulas as entries\n",
    "symb_qubo"
   ]
  },
  {
   "cell_type": "code",
   "execution_count": 16,
   "metadata": {},
   "outputs": [],
   "source": [
    "# insert explicit values to obtain explicit QUBO\n",
    "explicit_qubo = insert_values(symb_qubo, edges)"
   ]
  },
  {
   "cell_type": "code",
   "execution_count": 17,
   "metadata": {},
   "outputs": [
    {
     "data": {
      "text/plain": [
       "array([[ -1.,   0., 200., ..., 200., 200., 200.],\n",
       "       [  0.,  -1.,   0., ..., 200., 200., 200.],\n",
       "       [  0.,   0.,  -1., ..., 200., 200., 200.],\n",
       "       ...,\n",
       "       [  0.,   0.,   0., ...,  -1.,   0., 200.],\n",
       "       [  0.,   0.,   0., ...,   0.,  -1.,   0.],\n",
       "       [  0.,   0.,   0., ...,   0.,   0.,  -1.]])"
      ]
     },
     "execution_count": 17,
     "metadata": {},
     "output_type": "execute_result"
    }
   ],
   "source": [
    "explicit_qubo"
   ]
  },
  {
   "cell_type": "code",
   "execution_count": 18,
   "metadata": {},
   "outputs": [
    {
     "data": {
      "text/plain": [
       "True"
      ]
     },
     "execution_count": 18,
     "metadata": {},
     "output_type": "execute_result"
    }
   ],
   "source": [
    "# result is same as QUBO from explicit sampling\n",
    "(explicit_qubo == qubo1).all()"
   ]
  },
  {
   "attachments": {},
   "cell_type": "markdown",
   "metadata": {},
   "source": [
    "## Runtime Comparison"
   ]
  },
  {
   "cell_type": "code",
   "execution_count": 19,
   "metadata": {},
   "outputs": [],
   "source": [
    "from timeit import default_timer as timer\n",
    "\n",
    "DATASET = BATCH_SMALL"
   ]
  },
  {
   "cell_type": "code",
   "execution_count": 20,
   "metadata": {},
   "outputs": [
    {
     "name": "stdout",
     "output_type": "stream",
     "text": [
      "Reading graph: c-fat200-1\n",
      "Vertices: 200, Edges: 1534\n",
      "Reading graph: c-fat200-2\n",
      "Vertices: 200, Edges: 3235\n",
      "Reading graph: brock200_1\n",
      "Vertices: 200, Edges: 14834\n",
      "Reading graph: brock200_2\n",
      "Vertices: 200, Edges: 9876\n",
      "Reading graph: brock200_3\n",
      "Vertices: 200, Edges: 12048\n",
      "Reading graph: san200_0.7_1\n",
      "Vertices: 200, Edges: 13930\n",
      "Reading graph: san200_0.7_2\n",
      "Vertices: 200, Edges: 13930\n",
      "Reading graph: san200_0.9_1\n",
      "Vertices: 200, Edges: 17910\n",
      "Reading graph: san200_0.9_2\n",
      "Vertices: 200, Edges: 17910\n",
      "Reading graph: san200_0.9_3\n",
      "Vertices: 200, Edges: 17910\n"
     ]
    }
   ],
   "source": [
    "# symbolic sampling\n",
    "start_symb = timer()\n",
    "# generate symbolic QUBO\n",
    "symb_qubo, offset = SamplingCompiler.generate_qubo(\n",
    "    cost_function, constraint, n, penalty_method=\"sum\"\n",
    ")\n",
    "# insert explicit values to obtain explicit QUBO\n",
    "for filename in DATASET:\n",
    "    edges, n = read_graph(filename)\n",
    "    explicit_qubo = insert_values(symb_qubo, edges)\n",
    "stop_symb = timer()"
   ]
  },
  {
   "cell_type": "code",
   "execution_count": 21,
   "metadata": {},
   "outputs": [
    {
     "name": "stdout",
     "output_type": "stream",
     "text": [
      "Reading graph: c-fat200-1\n",
      "Vertices: 200, Edges: 1534\n",
      "Reading graph: c-fat200-2\n",
      "Vertices: 200, Edges: 3235\n",
      "Reading graph: brock200_1\n",
      "Vertices: 200, Edges: 14834\n",
      "Reading graph: brock200_2\n",
      "Vertices: 200, Edges: 9876\n",
      "Reading graph: brock200_3\n",
      "Vertices: 200, Edges: 12048\n",
      "Reading graph: san200_0.7_1\n",
      "Vertices: 200, Edges: 13930\n",
      "Reading graph: san200_0.7_2\n",
      "Vertices: 200, Edges: 13930\n",
      "Reading graph: san200_0.9_1\n",
      "Vertices: 200, Edges: 17910\n",
      "Reading graph: san200_0.9_2\n",
      "Vertices: 200, Edges: 17910\n",
      "Reading graph: san200_0.9_3\n",
      "Vertices: 200, Edges: 17910\n"
     ]
    }
   ],
   "source": [
    "# explicit sampling\n",
    "start_exp = timer()\n",
    "# sample for each explicit QUBO\n",
    "for filename in DATASET:\n",
    "    edges, n = read_graph(filename)\n",
    "    # explicit constraint function defined by given graph\n",
    "    explicit_constraint = lambda x: old_constraint(x, edges)\n",
    "    explicit_qubo, offset = SamplingCompiler.generate_qubo(\n",
    "    cost_function, explicit_constraint, n, penalty_method=\"sum\"\n",
    ")\n",
    "stop_exp = timer()"
   ]
  },
  {
   "cell_type": "code",
   "execution_count": 22,
   "metadata": {},
   "outputs": [
    {
     "name": "stdout",
     "output_type": "stream",
     "text": [
      "Symbolic sampling took 107.41s in total.\n",
      "Explicit sampling took 563.05s in total.\n",
      "Symbolic sampling was 5.24x faster for 10 instances.\n"
     ]
    }
   ],
   "source": [
    "symb_time = np.round(stop_symb - start_symb, 2)\n",
    "exp_time = np.round(stop_exp - start_exp, 2)\n",
    "print(f\"Symbolic sampling took {symb_time}s in total.\")\n",
    "print(f\"Explicit sampling took {exp_time}s in total.\")\n",
    "print(f\"Symbolic sampling was {np.round(exp_time/symb_time, 2)}x faster for {len(DATASET)} instances.\")\n"
   ]
  },
  {
   "cell_type": "code",
   "execution_count": null,
   "metadata": {},
   "outputs": [],
   "source": []
  }
 ],
 "metadata": {
  "kernelspec": {
   "display_name": "autoqubo",
   "language": "python",
   "name": "python3"
  },
  "language_info": {
   "codemirror_mode": {
    "name": "ipython",
    "version": 3
   },
   "file_extension": ".py",
   "mimetype": "text/x-python",
   "name": "python",
   "nbconvert_exporter": "python",
   "pygments_lexer": "ipython3",
   "version": "3.7.16"
  },
  "orig_nbformat": 4
 },
 "nbformat": 4,
 "nbformat_minor": 2
}
